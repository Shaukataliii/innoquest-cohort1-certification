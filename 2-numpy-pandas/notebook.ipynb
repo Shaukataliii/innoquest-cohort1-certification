{
 "cells": [
  {
   "cell_type": "markdown",
   "metadata": {},
   "source": [
    "## Numpy\n",
    "Mostly used for homogeneous data e.g. floats, ints"
   ]
  },
  {
   "cell_type": "code",
   "execution_count": 1,
   "metadata": {},
   "outputs": [],
   "source": [
    "import numpy as np"
   ]
  },
  {
   "cell_type": "code",
   "execution_count": 2,
   "metadata": {},
   "outputs": [
    {
     "data": {
      "text/plain": [
       "array([ 0,  1,  2,  3,  4,  5,  6,  7,  8,  9, 10, 11, 12, 13, 14, 15])"
      ]
     },
     "execution_count": 2,
     "metadata": {},
     "output_type": "execute_result"
    }
   ],
   "source": [
    "arr = np.arange(16)\n",
    "arr"
   ]
  },
  {
   "cell_type": "code",
   "execution_count": 3,
   "metadata": {},
   "outputs": [
    {
     "data": {
      "text/plain": [
       "16"
      ]
     },
     "execution_count": 3,
     "metadata": {},
     "output_type": "execute_result"
    }
   ],
   "source": [
    "arr.size"
   ]
  },
  {
   "cell_type": "code",
   "execution_count": 4,
   "metadata": {},
   "outputs": [
    {
     "data": {
      "text/plain": [
       "(16,)"
      ]
     },
     "execution_count": 4,
     "metadata": {},
     "output_type": "execute_result"
    }
   ],
   "source": [
    "arr.shape"
   ]
  },
  {
   "cell_type": "code",
   "execution_count": 5,
   "metadata": {},
   "outputs": [
    {
     "data": {
      "text/plain": [
       "1"
      ]
     },
     "execution_count": 5,
     "metadata": {},
     "output_type": "execute_result"
    }
   ],
   "source": [
    "arr.ndim"
   ]
  },
  {
   "cell_type": "code",
   "execution_count": 6,
   "metadata": {},
   "outputs": [
    {
     "data": {
      "text/plain": [
       "array([[ 0,  1,  2,  3,  4,  5,  6,  7],\n",
       "       [ 8,  9, 10, 11, 12, 13, 14, 15]])"
      ]
     },
     "execution_count": 6,
     "metadata": {},
     "output_type": "execute_result"
    }
   ],
   "source": [
    "arr2 = arr.reshape(2,8)\n",
    "arr2"
   ]
  },
  {
   "cell_type": "code",
   "execution_count": 7,
   "metadata": {},
   "outputs": [
    {
     "data": {
      "text/plain": [
       "(2, 8)"
      ]
     },
     "execution_count": 7,
     "metadata": {},
     "output_type": "execute_result"
    }
   ],
   "source": [
    "arr2.shape"
   ]
  },
  {
   "cell_type": "code",
   "execution_count": 8,
   "metadata": {},
   "outputs": [
    {
     "ename": "IndexError",
     "evalue": "index 2 is out of bounds for axis 0 with size 2",
     "output_type": "error",
     "traceback": [
      "\u001b[1;31m---------------------------------------------------------------------------\u001b[0m",
      "\u001b[1;31mIndexError\u001b[0m                                Traceback (most recent call last)",
      "Cell \u001b[1;32mIn[8], line 1\u001b[0m\n\u001b[1;32m----> 1\u001b[0m \u001b[43marr2\u001b[49m\u001b[43m[\u001b[49m\u001b[38;5;241;43m2\u001b[39;49m\u001b[43m,\u001b[49m\u001b[43m \u001b[49m\u001b[38;5;241;43m2\u001b[39;49m\u001b[43m]\u001b[49m\n",
      "\u001b[1;31mIndexError\u001b[0m: index 2 is out of bounds for axis 0 with size 2"
     ]
    }
   ],
   "source": [
    "arr2[2, 2]   # 10"
   ]
  },
  {
   "cell_type": "markdown",
   "metadata": {},
   "source": []
  },
  {
   "cell_type": "markdown",
   "metadata": {},
   "source": [
    "### Moving forward"
   ]
  },
  {
   "cell_type": "code",
   "execution_count": 11,
   "metadata": {},
   "outputs": [
    {
     "name": "stdout",
     "output_type": "stream",
     "text": [
      "[[-1.46017964  1.32724224 -0.83754258  0.53077652 -1.70198102 -0.61955561\n",
      "   0.66698498  0.32120258  0.60205522  0.17299125]\n",
      " [-0.41071358  0.87229068 -0.47986368 -0.40236746 -2.00021113  1.64801858\n",
      "  -0.54425087  1.07617585 -1.18851607 -0.23064576]\n",
      " [-1.04413427 -0.18704464  0.61908976  0.38747027 -0.69551352 -0.3018864\n",
      "   1.19057911  0.18488837  0.03503561 -1.71910151]\n",
      " [ 0.34292087 -0.67126608 -0.3424882  -0.08372475 -0.60055675  0.68601582\n",
      "  -2.48206602  0.45645422 -0.53966997 -0.23698089]\n",
      " [ 0.56177175  0.39283828  0.17817091 -1.33896023 -0.14829798  0.18613195\n",
      "  -0.3357356   0.30149614 -0.57006525 -0.711158  ]\n",
      " [ 0.70791745  0.3165249   0.90795484  0.84075251  0.65355484  0.12094355\n",
      "  -0.55699935 -1.67204045 -0.67319722  0.38162577]\n",
      " [ 0.82421565  1.01703018  0.23995553  0.19788674  0.42472708  1.64284887\n",
      "   0.3180932   0.57643679  0.14934023 -1.21603725]\n",
      " [ 0.51700517 -0.31913468 -0.89940694  1.90421271 -0.52753349 -0.75007602\n",
      "  -1.7826829   0.18792051  1.18877739 -0.30812993]\n",
      " [-0.89489314 -1.56635049 -1.44895844 -0.16090858  0.69943831 -1.91868689\n",
      "  -0.53511489 -0.22225315 -0.89125452 -1.92742207]\n",
      " [-0.779406    1.21039718  0.66536309  1.57358926 -2.43083583 -0.03887697\n",
      "   0.90739992 -0.34676215 -0.97491974 -1.09751231]]\n",
      "[[-1.46  1.33 -0.84  0.53 -1.7  -0.62  0.67  0.32  0.6   0.17]\n",
      " [-0.41  0.87 -0.48 -0.4  -2.    1.65 -0.54  1.08 -1.19 -0.23]\n",
      " [-1.04 -0.19  0.62  0.39 -0.7  -0.3   1.19  0.18  0.04 -1.72]\n",
      " [ 0.34 -0.67 -0.34 -0.08 -0.6   0.69 -2.48  0.46 -0.54 -0.24]\n",
      " [ 0.56  0.39  0.18 -1.34 -0.15  0.19 -0.34  0.3  -0.57 -0.71]\n",
      " [ 0.71  0.32  0.91  0.84  0.65  0.12 -0.56 -1.67 -0.67  0.38]\n",
      " [ 0.82  1.02  0.24  0.2   0.42  1.64  0.32  0.58  0.15 -1.22]\n",
      " [ 0.52 -0.32 -0.9   1.9  -0.53 -0.75 -1.78  0.19  1.19 -0.31]\n",
      " [-0.89 -1.57 -1.45 -0.16  0.7  -1.92 -0.54 -0.22 -0.89 -1.93]\n",
      " [-0.78  1.21  0.67  1.57 -2.43 -0.04  0.91 -0.35 -0.97 -1.1 ]]\n"
     ]
    }
   ],
   "source": [
    "import numpy as np\n",
    "\n",
    "arr = np.random.randn(10, 10)\n",
    "print(arr)\n",
    "arr = np.round(arr, 2)\n",
    "print(arr)"
   ]
  },
  {
   "cell_type": "code",
   "execution_count": 12,
   "metadata": {},
   "outputs": [
    {
     "data": {
      "text/plain": [
       "(10, 10)"
      ]
     },
     "execution_count": 12,
     "metadata": {},
     "output_type": "execute_result"
    }
   ],
   "source": [
    "arr.shape"
   ]
  },
  {
   "cell_type": "code",
   "execution_count": 18,
   "metadata": {},
   "outputs": [
    {
     "data": {
      "text/plain": [
       "array([[-0.41,  0.87, -0.48, -0.4 , -2.  ,  1.65, -0.54,  1.08, -1.19,\n",
       "        -0.23],\n",
       "       [ 0.34, -0.67, -0.34, -0.08, -0.6 ,  0.69, -2.48,  0.46, -0.54,\n",
       "        -0.24],\n",
       "       [ 0.71,  0.32,  0.91,  0.84,  0.65,  0.12, -0.56, -1.67, -0.67,\n",
       "         0.38],\n",
       "       [ 0.52, -0.32, -0.9 ,  1.9 , -0.53, -0.75, -1.78,  0.19,  1.19,\n",
       "        -0.31],\n",
       "       [-0.78,  1.21,  0.67,  1.57, -2.43, -0.04,  0.91, -0.35, -0.97,\n",
       "        -1.1 ]])"
      ]
     },
     "execution_count": 18,
     "metadata": {},
     "output_type": "execute_result"
    }
   ],
   "source": [
    "arr[1:10:2]"
   ]
  },
  {
   "cell_type": "code",
   "execution_count": 19,
   "metadata": {},
   "outputs": [
    {
     "data": {
      "text/plain": [
       "array([[-0.41,  0.87, -0.48, -0.4 , -2.  ,  1.65, -0.54,  1.08, -1.19,\n",
       "        -0.23],\n",
       "       [ 0.34, -0.67, -0.34, -0.08, -0.6 ,  0.69, -2.48,  0.46, -0.54,\n",
       "        -0.24],\n",
       "       [ 0.71,  0.32,  0.91,  0.84,  0.65,  0.12, -0.56, -1.67, -0.67,\n",
       "         0.38],\n",
       "       [ 0.52, -0.32, -0.9 ,  1.9 , -0.53, -0.75, -1.78,  0.19,  1.19,\n",
       "        -0.31],\n",
       "       [-0.78,  1.21,  0.67,  1.57, -2.43, -0.04,  0.91, -0.35, -0.97,\n",
       "        -1.1 ]])"
      ]
     },
     "execution_count": 19,
     "metadata": {},
     "output_type": "execute_result"
    }
   ],
   "source": [
    "arr[1:10:2,::]  # same as above"
   ]
  },
  {
   "cell_type": "code",
   "execution_count": 21,
   "metadata": {},
   "outputs": [
    {
     "data": {
      "text/plain": [
       "array([[-0.41,  0.87, -0.48, -0.4 ],\n",
       "       [ 0.34, -0.67, -0.34, -0.08],\n",
       "       [ 0.71,  0.32,  0.91,  0.84],\n",
       "       [ 0.52, -0.32, -0.9 ,  1.9 ],\n",
       "       [-0.78,  1.21,  0.67,  1.57]])"
      ]
     },
     "execution_count": 21,
     "metadata": {},
     "output_type": "execute_result"
    }
   ],
   "source": [
    "arr[1:10:2,0:4] # only 1st 4 columns"
   ]
  },
  {
   "cell_type": "markdown",
   "metadata": {},
   "source": [
    "Take is that, as we use slicing on lists, we can use that here also, but here it's more effecient. We can specify slicing for each individual array in the array we're dealing with (multi-dimensional)."
   ]
  },
  {
   "cell_type": "code",
   "execution_count": 24,
   "metadata": {},
   "outputs": [
    {
     "data": {
      "text/plain": [
       "array([ 3, 32, 53, 23, 53])"
      ]
     },
     "execution_count": 24,
     "metadata": {},
     "output_type": "execute_result"
    }
   ],
   "source": [
    "x = np.array([2,3,5,23,53])\n",
    "y = np.array([3,32,53,2,43])\n",
    "np.maximum(x, y)    # element-wise max"
   ]
  },
  {
   "cell_type": "code",
   "execution_count": 25,
   "metadata": {},
   "outputs": [
    {
     "data": {
      "text/plain": [
       "array([   6,   96,  265,   46, 2279])"
      ]
     },
     "execution_count": 25,
     "metadata": {},
     "output_type": "execute_result"
    }
   ],
   "source": [
    "x * y"
   ]
  },
  {
   "cell_type": "code",
   "execution_count": 28,
   "metadata": {},
   "outputs": [
    {
     "name": "stdout",
     "output_type": "stream",
     "text": [
      "[[0 1 2]\n",
      " [3 4 5]\n",
      " [6 7 8]] \n",
      "\n",
      " [[0 1 2]\n",
      " [3 4 5]\n",
      " [6 7 8]]\n"
     ]
    }
   ],
   "source": [
    "x2 = np.arange(9).reshape(3, 3)\n",
    "y2 = np.arange(9).reshape(3, 3)\n",
    "print(x2, \"\\n\\n\", y2)"
   ]
  },
  {
   "cell_type": "code",
   "execution_count": 30,
   "metadata": {},
   "outputs": [
    {
     "data": {
      "text/plain": [
       "array([[ 0,  1,  4],\n",
       "       [ 9, 16, 25],\n",
       "       [36, 49, 64]])"
      ]
     },
     "execution_count": 30,
     "metadata": {},
     "output_type": "execute_result"
    }
   ],
   "source": [
    "x2*y2 # element-wise"
   ]
  },
  {
   "cell_type": "code",
   "execution_count": 31,
   "metadata": {},
   "outputs": [
    {
     "data": {
      "text/plain": [
       "array([[ 15,  18,  21],\n",
       "       [ 42,  54,  66],\n",
       "       [ 69,  90, 111]])"
      ]
     },
     "execution_count": 31,
     "metadata": {},
     "output_type": "execute_result"
    }
   ],
   "source": [
    "# for dot product\n",
    "np.dot(x2,y2)"
   ]
  },
  {
   "cell_type": "code",
   "execution_count": 32,
   "metadata": {},
   "outputs": [
    {
     "data": {
      "text/plain": [
       "array([[0, 1],\n",
       "       [2, 3],\n",
       "       [4, 5]])"
      ]
     },
     "execution_count": 32,
     "metadata": {},
     "output_type": "execute_result"
    }
   ],
   "source": [
    "x2_b = np.arange(6).reshape(3,2)\n",
    "x2_b"
   ]
  },
  {
   "cell_type": "code",
   "execution_count": 35,
   "metadata": {},
   "outputs": [
    {
     "data": {
      "text/plain": [
       "array([[10, 13],\n",
       "       [28, 40],\n",
       "       [46, 67]])"
      ]
     },
     "execution_count": 35,
     "metadata": {},
     "output_type": "execute_result"
    }
   ],
   "source": [
    "# x2 * x2_b   # will fail because element-wise calcs are not possible\n",
    "\n",
    "np.dot(x2, x2_b)"
   ]
  },
  {
   "cell_type": "code",
   "execution_count": 36,
   "metadata": {},
   "outputs": [
    {
     "data": {
      "text/plain": [
       "array([[10, 13],\n",
       "       [28, 40],\n",
       "       [46, 67]])"
      ]
     },
     "execution_count": 36,
     "metadata": {},
     "output_type": "execute_result"
    }
   ],
   "source": [
    "x2.dot(x2_b)"
   ]
  },
  {
   "cell_type": "code",
   "execution_count": 40,
   "metadata": {},
   "outputs": [
    {
     "name": "stdout",
     "output_type": "stream",
     "text": [
      "[[0 1 2]\n",
      " [3 4 5]\n",
      " [6 7 8]]\n",
      "\n",
      "Transposed: \n",
      " [[0 3 6]\n",
      " [1 4 7]\n",
      " [2 5 8]]\n"
     ]
    }
   ],
   "source": [
    "print(x2)\n",
    "x2_t = x2.T\n",
    "\n",
    "print(\"\\nTransposed: \\n\", x2_t)"
   ]
  },
  {
   "cell_type": "code",
   "execution_count": 41,
   "metadata": {},
   "outputs": [
    {
     "data": {
      "text/plain": [
       "array([0, 1, 2, 3, 4, 5, 6, 7, 8])"
      ]
     },
     "execution_count": 41,
     "metadata": {},
     "output_type": "execute_result"
    }
   ],
   "source": [
    "x2.flatten()"
   ]
  },
  {
   "cell_type": "code",
   "execution_count": 47,
   "metadata": {},
   "outputs": [
    {
     "data": {
      "text/plain": [
       "(3, 2)"
      ]
     },
     "execution_count": 47,
     "metadata": {},
     "output_type": "execute_result"
    }
   ],
   "source": [
    "# when 2nd dimension is unknown/unconsidered\n",
    "x2_b.shape"
   ]
  },
  {
   "cell_type": "code",
   "execution_count": 50,
   "metadata": {},
   "outputs": [
    {
     "data": {
      "text/plain": [
       "array([[0, 1, 2],\n",
       "       [3, 4, 5]])"
      ]
     },
     "execution_count": 50,
     "metadata": {},
     "output_type": "execute_result"
    }
   ],
   "source": [
    "x2_b.reshape(2, -1)"
   ]
  },
  {
   "cell_type": "markdown",
   "metadata": {},
   "source": [
    "#### Concatenate"
   ]
  },
  {
   "cell_type": "code",
   "execution_count": 52,
   "metadata": {},
   "outputs": [
    {
     "name": "stdout",
     "output_type": "stream",
     "text": [
      "[[0 1 2]\n",
      " [3 4 5]\n",
      " [6 7 8]] \n",
      "\n",
      " [[0 1]\n",
      " [2 3]\n",
      " [4 5]]\n"
     ]
    }
   ],
   "source": [
    "print(x2, \"\\n\\n\", x2_b)"
   ]
  },
  {
   "cell_type": "code",
   "execution_count": 53,
   "metadata": {},
   "outputs": [
    {
     "data": {
      "text/plain": [
       "array([[0, 1, 2, 0, 1],\n",
       "       [3, 4, 5, 2, 3],\n",
       "       [6, 7, 8, 4, 5]])"
      ]
     },
     "execution_count": 53,
     "metadata": {},
     "output_type": "execute_result"
    }
   ],
   "source": [
    "np.concatenate((x2, x2_b), axis=1)"
   ]
  },
  {
   "cell_type": "code",
   "execution_count": 55,
   "metadata": {},
   "outputs": [
    {
     "data": {
      "text/plain": [
       "array([[0, 1, 2, 0, 1],\n",
       "       [3, 4, 5, 2, 3],\n",
       "       [6, 7, 8, 4, 5]])"
      ]
     },
     "execution_count": 55,
     "metadata": {},
     "output_type": "execute_result"
    }
   ],
   "source": [
    "# can also do\n",
    "np.hstack((x2, x2_b))"
   ]
  },
  {
   "cell_type": "code",
   "execution_count": 61,
   "metadata": {},
   "outputs": [
    {
     "name": "stdout",
     "output_type": "stream",
     "text": [
      "[[0 1 2]\n",
      " [3 4 5]\n",
      " [6 7 8]] \n",
      "\n",
      " [[0 1 2]\n",
      " [3 4 5]\n",
      " [6 7 8]]\n"
     ]
    }
   ],
   "source": [
    "print(x2, \"\\n\\n\", y2)"
   ]
  },
  {
   "cell_type": "code",
   "execution_count": 63,
   "metadata": {},
   "outputs": [
    {
     "data": {
      "text/plain": [
       "array([[0, 1, 2],\n",
       "       [3, 4, 5],\n",
       "       [6, 7, 8],\n",
       "       [0, 1, 2],\n",
       "       [3, 4, 5],\n",
       "       [6, 7, 8]])"
      ]
     },
     "execution_count": 63,
     "metadata": {},
     "output_type": "execute_result"
    }
   ],
   "source": [
    "np.vstack((x2, y2))"
   ]
  },
  {
   "cell_type": "markdown",
   "metadata": {},
   "source": [
    "- For hstack, num of rows should be same.\n",
    "- For vstack, num of cols should be same."
   ]
  },
  {
   "cell_type": "markdown",
   "metadata": {},
   "source": [
    "## Pandas\n",
    "Mostly used for heterogeneous data."
   ]
  },
  {
   "cell_type": "code",
   "execution_count": null,
   "metadata": {},
   "outputs": [],
   "source": []
  }
 ],
 "metadata": {
  "kernelspec": {
   "display_name": "data-science",
   "language": "python",
   "name": "python3"
  },
  "language_info": {
   "codemirror_mode": {
    "name": "ipython",
    "version": 3
   },
   "file_extension": ".py",
   "mimetype": "text/x-python",
   "name": "python",
   "nbconvert_exporter": "python",
   "pygments_lexer": "ipython3",
   "version": "3.10.13"
  }
 },
 "nbformat": 4,
 "nbformat_minor": 2
}
